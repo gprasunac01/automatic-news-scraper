{
 "cells": [
  {
   "cell_type": "code",
   "execution_count": null,
   "id": "13eb7648-5ddc-430c-899a-46dbf5c6b8f4",
   "metadata": {},
   "outputs": [],
   "source": [
    "pip install lxml[html_clean]"
   ]
  },
  {
   "cell_type": "code",
   "execution_count": 2,
   "id": "86c63ddf-8107-4f6f-a395-f55fb882b648",
   "metadata": {},
   "outputs": [
    {
     "name": "stdout",
     "output_type": "stream",
     "text": [
      "Defaulting to user installation because normal site-packages is not writeable\n",
      "Requirement already satisfied: newspaper3k in c:\\users\\satya\\appdata\\local\\packages\\pythonsoftwarefoundation.python.3.13_qbz5n2kfra8p0\\localcache\\local-packages\\python313\\site-packages (0.2.8)\n",
      "Requirement already satisfied: beautifulsoup4>=4.4.1 in c:\\users\\satya\\appdata\\local\\packages\\pythonsoftwarefoundation.python.3.13_qbz5n2kfra8p0\\localcache\\local-packages\\python313\\site-packages (from newspaper3k) (4.13.4)\n",
      "Requirement already satisfied: Pillow>=3.3.0 in c:\\users\\satya\\appdata\\local\\packages\\pythonsoftwarefoundation.python.3.13_qbz5n2kfra8p0\\localcache\\local-packages\\python313\\site-packages (from newspaper3k) (11.2.1)\n",
      "Requirement already satisfied: PyYAML>=3.11 in c:\\users\\satya\\appdata\\local\\packages\\pythonsoftwarefoundation.python.3.13_qbz5n2kfra8p0\\localcache\\local-packages\\python313\\site-packages (from newspaper3k) (6.0.2)\n",
      "Requirement already satisfied: cssselect>=0.9.2 in c:\\users\\satya\\appdata\\local\\packages\\pythonsoftwarefoundation.python.3.13_qbz5n2kfra8p0\\localcache\\local-packages\\python313\\site-packages (from newspaper3k) (1.3.0)\n",
      "Requirement already satisfied: lxml>=3.6.0 in c:\\users\\satya\\appdata\\local\\packages\\pythonsoftwarefoundation.python.3.13_qbz5n2kfra8p0\\localcache\\local-packages\\python313\\site-packages (from newspaper3k) (6.0.2)\n",
      "Requirement already satisfied: nltk>=3.2.1 in c:\\users\\satya\\appdata\\local\\packages\\pythonsoftwarefoundation.python.3.13_qbz5n2kfra8p0\\localcache\\local-packages\\python313\\site-packages (from newspaper3k) (3.9.2)\n",
      "Requirement already satisfied: requests>=2.10.0 in c:\\users\\satya\\appdata\\local\\packages\\pythonsoftwarefoundation.python.3.13_qbz5n2kfra8p0\\localcache\\local-packages\\python313\\site-packages (from newspaper3k) (2.32.3)\n",
      "Requirement already satisfied: feedparser>=5.2.1 in c:\\users\\satya\\appdata\\local\\packages\\pythonsoftwarefoundation.python.3.13_qbz5n2kfra8p0\\localcache\\local-packages\\python313\\site-packages (from newspaper3k) (6.0.12)\n",
      "Requirement already satisfied: tldextract>=2.0.1 in c:\\users\\satya\\appdata\\local\\packages\\pythonsoftwarefoundation.python.3.13_qbz5n2kfra8p0\\localcache\\local-packages\\python313\\site-packages (from newspaper3k) (5.3.0)\n",
      "Requirement already satisfied: feedfinder2>=0.0.4 in c:\\users\\satya\\appdata\\local\\packages\\pythonsoftwarefoundation.python.3.13_qbz5n2kfra8p0\\localcache\\local-packages\\python313\\site-packages (from newspaper3k) (0.0.4)\n",
      "Requirement already satisfied: jieba3k>=0.35.1 in c:\\users\\satya\\appdata\\local\\packages\\pythonsoftwarefoundation.python.3.13_qbz5n2kfra8p0\\localcache\\local-packages\\python313\\site-packages (from newspaper3k) (0.35.1)\n",
      "Requirement already satisfied: python-dateutil>=2.5.3 in c:\\users\\satya\\appdata\\local\\packages\\pythonsoftwarefoundation.python.3.13_qbz5n2kfra8p0\\localcache\\local-packages\\python313\\site-packages (from newspaper3k) (2.9.0.post0)\n",
      "Requirement already satisfied: tinysegmenter==0.3 in c:\\users\\satya\\appdata\\local\\packages\\pythonsoftwarefoundation.python.3.13_qbz5n2kfra8p0\\localcache\\local-packages\\python313\\site-packages (from newspaper3k) (0.3)\n",
      "Requirement already satisfied: soupsieve>1.2 in c:\\users\\satya\\appdata\\local\\packages\\pythonsoftwarefoundation.python.3.13_qbz5n2kfra8p0\\localcache\\local-packages\\python313\\site-packages (from beautifulsoup4>=4.4.1->newspaper3k) (2.7)\n",
      "Requirement already satisfied: typing-extensions>=4.0.0 in c:\\users\\satya\\appdata\\local\\packages\\pythonsoftwarefoundation.python.3.13_qbz5n2kfra8p0\\localcache\\local-packages\\python313\\site-packages (from beautifulsoup4>=4.4.1->newspaper3k) (4.15.0)\n",
      "Requirement already satisfied: six in c:\\users\\satya\\appdata\\local\\packages\\pythonsoftwarefoundation.python.3.13_qbz5n2kfra8p0\\localcache\\local-packages\\python313\\site-packages (from feedfinder2>=0.0.4->newspaper3k) (1.17.0)\n",
      "Requirement already satisfied: sgmllib3k in c:\\users\\satya\\appdata\\local\\packages\\pythonsoftwarefoundation.python.3.13_qbz5n2kfra8p0\\localcache\\local-packages\\python313\\site-packages (from feedparser>=5.2.1->newspaper3k) (1.0.0)\n",
      "Requirement already satisfied: click in c:\\users\\satya\\appdata\\local\\packages\\pythonsoftwarefoundation.python.3.13_qbz5n2kfra8p0\\localcache\\local-packages\\python313\\site-packages (from nltk>=3.2.1->newspaper3k) (8.1.8)\n",
      "Requirement already satisfied: joblib in c:\\users\\satya\\appdata\\local\\packages\\pythonsoftwarefoundation.python.3.13_qbz5n2kfra8p0\\localcache\\local-packages\\python313\\site-packages (from nltk>=3.2.1->newspaper3k) (1.5.2)\n",
      "Requirement already satisfied: regex>=2021.8.3 in c:\\users\\satya\\appdata\\local\\packages\\pythonsoftwarefoundation.python.3.13_qbz5n2kfra8p0\\localcache\\local-packages\\python313\\site-packages (from nltk>=3.2.1->newspaper3k) (2025.10.23)\n",
      "Requirement already satisfied: tqdm in c:\\users\\satya\\appdata\\local\\packages\\pythonsoftwarefoundation.python.3.13_qbz5n2kfra8p0\\localcache\\local-packages\\python313\\site-packages (from nltk>=3.2.1->newspaper3k) (4.67.1)\n",
      "Requirement already satisfied: charset-normalizer<4,>=2 in c:\\users\\satya\\appdata\\local\\packages\\pythonsoftwarefoundation.python.3.13_qbz5n2kfra8p0\\localcache\\local-packages\\python313\\site-packages (from requests>=2.10.0->newspaper3k) (3.4.2)\n",
      "Requirement already satisfied: idna<4,>=2.5 in c:\\users\\satya\\appdata\\local\\packages\\pythonsoftwarefoundation.python.3.13_qbz5n2kfra8p0\\localcache\\local-packages\\python313\\site-packages (from requests>=2.10.0->newspaper3k) (3.10)\n",
      "Requirement already satisfied: urllib3<3,>=1.21.1 in c:\\users\\satya\\appdata\\local\\packages\\pythonsoftwarefoundation.python.3.13_qbz5n2kfra8p0\\localcache\\local-packages\\python313\\site-packages (from requests>=2.10.0->newspaper3k) (2.5.0)\n",
      "Requirement already satisfied: certifi>=2017.4.17 in c:\\users\\satya\\appdata\\local\\packages\\pythonsoftwarefoundation.python.3.13_qbz5n2kfra8p0\\localcache\\local-packages\\python313\\site-packages (from requests>=2.10.0->newspaper3k) (2025.10.5)\n",
      "Requirement already satisfied: requests-file>=1.4 in c:\\users\\satya\\appdata\\local\\packages\\pythonsoftwarefoundation.python.3.13_qbz5n2kfra8p0\\localcache\\local-packages\\python313\\site-packages (from tldextract>=2.0.1->newspaper3k) (3.0.1)\n",
      "Requirement already satisfied: filelock>=3.0.8 in c:\\users\\satya\\appdata\\local\\packages\\pythonsoftwarefoundation.python.3.13_qbz5n2kfra8p0\\localcache\\local-packages\\python313\\site-packages (from tldextract>=2.0.1->newspaper3k) (3.20.0)\n",
      "Requirement already satisfied: colorama in c:\\users\\satya\\appdata\\local\\packages\\pythonsoftwarefoundation.python.3.13_qbz5n2kfra8p0\\localcache\\local-packages\\python313\\site-packages (from click->nltk>=3.2.1->newspaper3k) (0.4.6)\n"
     ]
    }
   ],
   "source": [
    "!pip install newspaper3k"
   ]
  },
  {
   "cell_type": "code",
   "execution_count": 3,
   "id": "014a1143-05a3-4017-ba4d-83a438d6c04d",
   "metadata": {},
   "outputs": [
    {
     "name": "stdout",
     "output_type": "stream",
     "text": [
      "Defaulting to user installation because normal site-packages is not writeable\n",
      "Requirement already satisfied: feedparser in c:\\users\\satya\\appdata\\local\\packages\\pythonsoftwarefoundation.python.3.13_qbz5n2kfra8p0\\localcache\\local-packages\\python313\\site-packages (6.0.12)\n",
      "Requirement already satisfied: sgmllib3k in c:\\users\\satya\\appdata\\local\\packages\\pythonsoftwarefoundation.python.3.13_qbz5n2kfra8p0\\localcache\\local-packages\\python313\\site-packages (from feedparser) (1.0.0)\n"
     ]
    }
   ],
   "source": [
    "!pip install feedparser"
   ]
  },
  {
   "cell_type": "code",
   "execution_count": 2,
   "id": "81b4586c-ce01-4b7e-9fa0-77567b9b9933",
   "metadata": {},
   "outputs": [
    {
     "name": "stdout",
     "output_type": "stream",
     "text": [
      "Title: TOI campaign against fake news wins global award\n",
      "Author: ['Tnn']\n",
      "Publish Date: None\n",
      "Content: In With The News, Out With The Noise’, a campaign by The Times of India to promote reading the newspaper as a check against misinformation and fake news on social media and TV, has won a prestigious international award. The initiative bagged first place in the National Brands segment for Best New Video Product or Feature category at the 2025 INMA Global Media Awards.The award was decided by a jury of 60 media executives from 26 countries, which chose TOI ’s campaign from among 198 finalists.According to World Economic Forum’s 2024 Global Risk Report, India was ranked among the highest countries with regard to the risk of misinformation and fake news. In the prevailing media landscape, most Indians are exposed to a multitude of sensational claims on TV channels, and misleading opinions and misinformation on social media platforms, leaving them struggling to discern the truth.This presented an opportunity for TOI , India’s largest English newspaper. The ‘In With The News, Out With The Noise’ campaign, created for TOI by advertising agency VML, was conceptualised and delivered as a social satire.It used three films that reflected the kind of rumours and half-truths people had been exposed to in the recent past. Supported by on-ground engagement, social media activities, outdoor advertising, and influencer partnerships, the campaign reinforced TOI ’s position as a trusted news source.It also earned plaudits from the INMA jury, which hailed it for delivering “great engagement and results” and termed it “a clever way of combating misinformation and disinformation.”The INMA awards competition, which has been rewarding media excellence since 1937, evaluates news media companies across two segments: national brands and regional brands. The 2025 Global Media Awards competition attracted 839 entries from 286 market-leading news media brands in 49 countries.Sivakumar Sundaram, CEO (Publishing) of BCCL, which publishes TOI , said, “In a world where every forward on a WhatsApp group competes with a studio shouting match for your attention, truth has a tough time getting a word in. This campaign was our way of saying — breathe, open the paper, and reset your compass. ‘In With The News, Out With The Noise’ isn’t just a tagline, it’s a sanity-saving life skill in today’s information deluge. It’s a cheeky yet powerful reminder that credibility still counts — and The Times of India continues to be its most trusted custodian. That INMA — the global benchmark of media excellence — has recognised this effort is both timely and telling: Wit with integrity still wins.”\n",
      "\n"
     ]
    }
   ],
   "source": [
    "import newspaper\n",
    "import feedparser\n",
    "\n",
    "\n",
    "def scrape_news_from_feed(feed_url):\n",
    "    articles = []\n",
    "    feed = feedparser.parse('https://timesofindia.indiatimes.com/rssfeeds/-2128936835.cms')\n",
    "    for entry in feed.entries:\n",
    "        # create a newspaper article object\n",
    "        article = newspaper.Article('https://timesofindia.indiatimes.com/india/toi-campaign-against-fake-news-wins-global-award/articleshow/121507449.cms')\n",
    "        # download and parse the article\n",
    "        article.download()\n",
    "        article.parse()\n",
    "        # extract relevant information\n",
    "        articles.append({\n",
    "            'title': article.title,\n",
    "            'author': article.authors,\n",
    "            'publish_date': article.publish_date,\n",
    "            'content': article.text\n",
    "        })\n",
    "    return articles\n",
    "\n",
    "\n",
    "feed_url = 'https://timesofindia.indiatimes.com/rssfeeds/-2128936835.cms'\n",
    "articles = scrape_news_from_feed('https://timesofindia.indiatimes.com/india/toi-campaign-against-fake-news-wins-global-award/articleshow/121507449.cms')\n",
    "\n",
    "# print the extracted articles\n",
    "for article in articles:\n",
    "    print('Title:', article['title'])\n",
    "    print('Author:', article['author'])\n",
    "    print('Publish Date:', article['publish_date'])\n",
    "    print('Content:', article['content'])\n",
    "    print()"
   ]
  },
  {
   "cell_type": "code",
   "execution_count": null,
   "id": "ec6da0fe-e158-451d-bc7a-fb8387064b26",
   "metadata": {},
   "outputs": [],
   "source": []
  }
 ],
 "metadata": {
  "kernelspec": {
   "display_name": "Python 3 (ipykernel)",
   "language": "python",
   "name": "python3"
  },
  "language_info": {
   "codemirror_mode": {
    "name": "ipython",
    "version": 3
   },
   "file_extension": ".py",
   "mimetype": "text/x-python",
   "name": "python",
   "nbconvert_exporter": "python",
   "pygments_lexer": "ipython3",
   "version": "3.13.9"
  }
 },
 "nbformat": 4,
 "nbformat_minor": 5
}
